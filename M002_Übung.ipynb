{
 "cells": [
  {
   "cell_type": "code",
   "execution_count": 1,
   "id": "1a8d0d29-6370-43fb-858c-858e6ff416a3",
   "metadata": {},
   "outputs": [],
   "source": [
    "import numpy as np"
   ]
  },
  {
   "cell_type": "code",
   "execution_count": 4,
   "id": "5c9322ee-8869-441a-8cb4-6baddc4b7df1",
   "metadata": {},
   "outputs": [],
   "source": [
    "x = np.arange(1, 21)"
   ]
  },
  {
   "cell_type": "code",
   "execution_count": 5,
   "id": "dd40456f-6945-4ac8-a848-0005de1bbad1",
   "metadata": {},
   "outputs": [
    {
     "data": {
      "text/plain": [
       "array([ 1,  2,  3,  4,  5,  6,  7,  8,  9, 10, 11, 12, 13, 14, 15, 16, 17,\n",
       "       18, 19, 20])"
      ]
     },
     "execution_count": 5,
     "metadata": {},
     "output_type": "execute_result"
    }
   ],
   "source": [
    "x"
   ]
  },
  {
   "cell_type": "code",
   "execution_count": 7,
   "id": "44cdf260-4841-464b-ac7e-8ddffaf0ffce",
   "metadata": {},
   "outputs": [
    {
     "data": {
      "text/plain": [
       "array([  1,   4,   9,  16,  25,  36,  49,  64,  81, 100, 121, 144, 169,\n",
       "       196, 225, 256, 289, 324, 361, 400])"
      ]
     },
     "execution_count": 7,
     "metadata": {},
     "output_type": "execute_result"
    }
   ],
   "source": [
    "x ** 2"
   ]
  },
  {
   "cell_type": "code",
   "execution_count": 10,
   "id": "c839439b-3f5c-4516-9977-80d303cf2270",
   "metadata": {},
   "outputs": [],
   "source": [
    "y = np.random.randint(100, size=(100))"
   ]
  },
  {
   "cell_type": "code",
   "execution_count": 11,
   "id": "35282cbf-d228-48f7-8bce-40c3b5036f3b",
   "metadata": {},
   "outputs": [
    {
     "data": {
      "text/plain": [
       "array([66,  1, 82, 36, 72, 69,  8, 71, 64,  4, 16, 65, 41, 99, 93, 98, 84,\n",
       "       26, 71,  7, 69, 28, 32, 84, 79, 88, 54, 82, 72, 12, 37, 93, 61, 69,\n",
       "       60, 67, 29, 65, 19, 97, 16, 49, 55, 15, 77, 15, 76, 24, 99, 14, 78,\n",
       "       89, 14, 17, 95, 37, 31, 13, 66, 85, 58, 78, 44, 64, 65, 69, 79, 33,\n",
       "       84, 87, 27, 37, 35, 57, 21, 85, 96, 49, 78, 66, 84, 80, 79, 41, 10,\n",
       "        4, 54, 50, 82, 68, 12,  9, 42, 51, 17, 97, 13, 23, 29, 72])"
      ]
     },
     "execution_count": 11,
     "metadata": {},
     "output_type": "execute_result"
    }
   ],
   "source": [
    "y"
   ]
  },
  {
   "cell_type": "code",
   "execution_count": 16,
   "id": "3a029fa5-5322-4be7-9426-2d5534f82bf5",
   "metadata": {},
   "outputs": [
    {
     "data": {
      "text/plain": [
       "78"
      ]
     },
     "execution_count": 16,
     "metadata": {},
     "output_type": "execute_result"
    }
   ],
   "source": [
    "len(y[y <= y.max() * 0.8])"
   ]
  },
  {
   "cell_type": "code",
   "execution_count": 17,
   "id": "6c58f9de-462a-4489-bf5b-1b6dc732bbed",
   "metadata": {},
   "outputs": [],
   "source": [
    "z = np.random.randint(10, size=(10, 10))"
   ]
  },
  {
   "cell_type": "code",
   "execution_count": 18,
   "id": "d86ac1a9-4641-4b3c-ab83-3e552cf10dde",
   "metadata": {},
   "outputs": [
    {
     "data": {
      "text/plain": [
       "array([[4, 9, 6, 0, 4, 3, 8, 7, 0, 9],\n",
       "       [1, 5, 8, 2, 8, 2, 8, 6, 0, 8],\n",
       "       [1, 1, 4, 4, 3, 9, 0, 6, 0, 6],\n",
       "       [4, 3, 0, 8, 8, 8, 8, 2, 8, 3],\n",
       "       [9, 3, 0, 5, 7, 4, 7, 3, 3, 9],\n",
       "       [5, 7, 2, 9, 1, 4, 8, 8, 3, 3],\n",
       "       [7, 6, 7, 8, 3, 7, 7, 8, 7, 0],\n",
       "       [7, 0, 6, 1, 4, 4, 4, 6, 3, 1],\n",
       "       [7, 4, 9, 2, 3, 5, 2, 9, 2, 4],\n",
       "       [2, 3, 0, 8, 5, 9, 4, 8, 2, 4]])"
      ]
     },
     "execution_count": 18,
     "metadata": {},
     "output_type": "execute_result"
    }
   ],
   "source": [
    "z"
   ]
  },
  {
   "cell_type": "code",
   "execution_count": 25,
   "id": "016104e8-b7c2-41c0-9a6b-2eedc4a12bc3",
   "metadata": {},
   "outputs": [],
   "source": [
    "mittelwerte = z.mean(axis=1)"
   ]
  },
  {
   "cell_type": "code",
   "execution_count": 26,
   "id": "6652b38c-d808-41e4-9e9a-d0f32de0dc2e",
   "metadata": {},
   "outputs": [
    {
     "data": {
      "text/plain": [
       "array([False, False, False,  True, False, False,  True, False, False,\n",
       "       False])"
      ]
     },
     "execution_count": 26,
     "metadata": {},
     "output_type": "execute_result"
    }
   ],
   "source": [
    "mittelwerte > 5"
   ]
  },
  {
   "cell_type": "code",
   "execution_count": 33,
   "id": "9188e2ed-3771-44ee-9a51-f695039a8c7b",
   "metadata": {},
   "outputs": [
    {
     "data": {
      "text/plain": [
       "array([[4, 9, 6, 0, 4, 3, 8, 7, 0, 9],\n",
       "       [4, 3, 0, 8, 8, 8, 8, 2, 8, 3],\n",
       "       [9, 3, 0, 5, 7, 4, 7, 3, 3, 9],\n",
       "       [5, 7, 2, 9, 1, 4, 8, 8, 3, 3],\n",
       "       [7, 6, 7, 8, 3, 7, 7, 8, 7, 0]])"
      ]
     },
     "execution_count": 33,
     "metadata": {},
     "output_type": "execute_result"
    }
   ],
   "source": [
    "z[mittelwerte>=5]"
   ]
  },
  {
   "cell_type": "code",
   "execution_count": 34,
   "id": "e88b7eda-7ddf-48a2-89a7-9cfd00e1884e",
   "metadata": {},
   "outputs": [
    {
     "data": {
      "text/plain": [
       "array([5. , 4.8, 3.4, 5.2, 5. , 5. , 6. , 3.6, 4.7, 4.5])"
      ]
     },
     "execution_count": 34,
     "metadata": {},
     "output_type": "execute_result"
    }
   ],
   "source": [
    "mittelwerte"
   ]
  },
  {
   "cell_type": "code",
   "execution_count": 39,
   "id": "e3f63e83-7a53-48f0-ba1a-19f71a5944cb",
   "metadata": {},
   "outputs": [],
   "source": [
    "a = np.random.randint(10, size=(100))"
   ]
  },
  {
   "cell_type": "code",
   "execution_count": 40,
   "id": "802bba26-0255-46c7-ade5-74a9cff81e12",
   "metadata": {},
   "outputs": [],
   "source": [
    "b = np.random.randint(10, size=(100))"
   ]
  },
  {
   "cell_type": "code",
   "execution_count": 41,
   "id": "edc327c6-8627-4dfd-9b0f-2e45666971b2",
   "metadata": {},
   "outputs": [
    {
     "data": {
      "text/plain": [
       "array([3, 5, 2, 6, 0, 0, 3, 8, 6, 0, 2, 3, 6, 7, 9, 1, 6, 6, 6, 8, 1, 0,\n",
       "       0, 6, 2, 5, 9, 8, 9, 3, 3, 2, 9, 9, 3, 2, 4, 6, 9, 0, 5, 7, 1, 4,\n",
       "       4, 6, 0, 5, 4, 2, 3, 9, 3, 4, 5, 6, 2, 4, 7, 8, 5, 2, 7, 2, 7, 3,\n",
       "       3, 5, 9, 0, 5, 7, 0, 3, 0, 0, 4, 6, 2, 3, 3, 6, 1, 0, 5, 1, 2, 2,\n",
       "       0, 3, 4, 8, 0, 4, 8, 2, 4, 8, 8, 1])"
      ]
     },
     "execution_count": 41,
     "metadata": {},
     "output_type": "execute_result"
    }
   ],
   "source": [
    "a"
   ]
  },
  {
   "cell_type": "code",
   "execution_count": 42,
   "id": "d61cc7f0-8bea-4b9d-911a-842393be7e79",
   "metadata": {},
   "outputs": [
    {
     "data": {
      "text/plain": [
       "array([8, 6, 2, 6, 9, 8, 6, 6, 4, 3, 1, 4, 9, 0, 5, 4, 5, 6, 6, 5, 4, 6,\n",
       "       2, 3, 3, 7, 1, 0, 0, 9, 6, 5, 0, 0, 6, 5, 1, 2, 9, 0, 9, 1, 9, 5,\n",
       "       0, 1, 3, 0, 0, 4, 4, 4, 8, 8, 7, 4, 7, 4, 9, 4, 5, 5, 4, 7, 3, 3,\n",
       "       4, 2, 0, 8, 3, 6, 1, 7, 4, 6, 2, 7, 1, 3, 3, 6, 1, 5, 7, 2, 4, 6,\n",
       "       6, 9, 4, 2, 3, 7, 3, 7, 8, 4, 1, 3])"
      ]
     },
     "execution_count": 42,
     "metadata": {},
     "output_type": "execute_result"
    }
   ],
   "source": [
    "b"
   ]
  },
  {
   "cell_type": "code",
   "execution_count": 43,
   "id": "d775545d-46c7-4eae-bec0-537f0f150076",
   "metadata": {},
   "outputs": [
    {
     "data": {
      "text/plain": [
       "array([False, False,  True,  True, False, False, False, False, False,\n",
       "       False, False, False, False, False, False, False, False,  True,\n",
       "        True, False, False, False, False, False, False, False, False,\n",
       "       False, False, False, False, False, False, False, False, False,\n",
       "       False, False,  True,  True, False, False, False, False, False,\n",
       "       False, False, False, False, False, False, False, False, False,\n",
       "       False, False, False,  True, False, False,  True, False, False,\n",
       "       False, False,  True, False, False, False, False, False, False,\n",
       "       False, False, False, False, False, False, False,  True,  True,\n",
       "        True,  True, False, False, False, False, False, False, False,\n",
       "        True, False, False, False, False, False, False, False, False,\n",
       "       False])"
      ]
     },
     "execution_count": 43,
     "metadata": {},
     "output_type": "execute_result"
    }
   ],
   "source": [
    "a == b"
   ]
  },
  {
   "cell_type": "code",
   "execution_count": 47,
   "id": "2cc6f8a7-69ff-4341-986c-4a3061610667",
   "metadata": {},
   "outputs": [],
   "source": [
    "index = [(num, i) for i, num in enumerate(a)]"
   ]
  },
  {
   "cell_type": "code",
   "execution_count": 50,
   "id": "f638803d-b3f0-4a9f-9e5a-2f357de95277",
   "metadata": {},
   "outputs": [
    {
     "data": {
      "text/plain": [
       "array([False, False,  True,  True, False, False, False, False, False,\n",
       "       False, False, False, False, False, False, False, False,  True,\n",
       "        True, False, False, False, False, False, False, False, False,\n",
       "       False, False, False, False, False, False, False, False, False,\n",
       "       False, False,  True,  True, False, False, False, False, False,\n",
       "       False, False, False, False, False, False, False, False, False,\n",
       "       False, False, False,  True, False, False,  True, False, False,\n",
       "       False, False,  True, False, False, False, False, False, False,\n",
       "       False, False, False, False, False, False, False,  True,  True,\n",
       "        True,  True, False, False, False, False, False, False, False,\n",
       "        True, False, False, False, False, False, False, False, False,\n",
       "       False])"
      ]
     },
     "execution_count": 50,
     "metadata": {},
     "output_type": "execute_result"
    }
   ],
   "source": [
    "a == b"
   ]
  },
  {
   "cell_type": "code",
   "execution_count": 53,
   "id": "728a9108-48a9-4733-a343-9630d23de7c0",
   "metadata": {},
   "outputs": [
    {
     "data": {
      "text/plain": [
       "array([[ 2,  2],\n",
       "       [ 6,  3],\n",
       "       [ 6, 17],\n",
       "       [ 6, 18],\n",
       "       [ 9, 38],\n",
       "       [ 0, 39],\n",
       "       [ 4, 57],\n",
       "       [ 5, 60],\n",
       "       [ 3, 65],\n",
       "       [ 3, 79],\n",
       "       [ 3, 80],\n",
       "       [ 6, 81],\n",
       "       [ 1, 82],\n",
       "       [ 4, 90]])"
      ]
     },
     "execution_count": 53,
     "metadata": {},
     "output_type": "execute_result"
    }
   ],
   "source": [
    "np.array(index)[a == b]"
   ]
  },
  {
   "cell_type": "code",
   "execution_count": null,
   "id": "2f4faead-02a6-48cd-af8a-a7e20b8425b2",
   "metadata": {},
   "outputs": [],
   "source": []
  }
 ],
 "metadata": {
  "kernelspec": {
   "display_name": "Python 3 (ipykernel)",
   "language": "python",
   "name": "python3"
  },
  "language_info": {
   "codemirror_mode": {
    "name": "ipython",
    "version": 3
   },
   "file_extension": ".py",
   "mimetype": "text/x-python",
   "name": "python",
   "nbconvert_exporter": "python",
   "pygments_lexer": "ipython3",
   "version": "3.10.6"
  }
 },
 "nbformat": 4,
 "nbformat_minor": 5
}
