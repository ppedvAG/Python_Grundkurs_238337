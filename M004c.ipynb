{
 "cells": [
  {
   "cell_type": "markdown",
   "id": "b78a31cc-2675-4269-8dd3-8f6729e353df",
   "metadata": {},
   "source": [
    "## Snake Modell"
   ]
  },
  {
   "cell_type": "code",
   "execution_count": 6,
   "id": "034b89af-3d0b-4dbe-a443-8af58a214799",
   "metadata": {
    "tags": []
   },
   "outputs": [],
   "source": [
    "import gymnasium as gym\n",
    "import numpy as np\n",
    "import Snake\n",
    "from gymnasium.spaces import Discrete, Box, Dict, Sequence\n",
    "from typing import Optional"
   ]
  },
  {
   "cell_type": "code",
   "execution_count": 14,
   "id": "7098bce0-9e00-4d82-a000-c8d2b49c1298",
   "metadata": {
    "tags": []
   },
   "outputs": [],
   "source": [
    "class SnakePlayer(gym.Env):\n",
    "    def __init__(self):\n",
    "        self.action_space = Discrete(4)  # Die verschiedenen Aktionen (Links, Oben, Rechts, Unten)\n",
    "        self.game = Snake.SnakeGame()\n",
    "        self.observation_space = Box(low=0, high=100, shape=(self.game.gridSize[0], self.game.gridSize[1]), dtype=np.int32)\n",
    "        self.state = self.game.grid\n",
    "        self.lastScore = 0\n",
    "        \n",
    "        \n",
    "    def step(self, action):\n",
    "        reward = 0\n",
    "        \n",
    "        self.game.nextDirection = action\n",
    "        \n",
    "        self.game.step()\n",
    "        \n",
    "        if self.rightDirection():\n",
    "            reward += 2\n",
    "        else:\n",
    "            reward -= 1\n",
    "        \n",
    "        if self.game.score > self.lastScore:\n",
    "            reward += 500\n",
    "            self.lastScore = self.game.score\n",
    "            \n",
    "        self.state = self.game.grid\n",
    "        \n",
    "        return np.array(self.state), reward, self.game.death, False, {\"Steps\": self.game.steps, \"Score\": self.game.score}\n",
    "    \n",
    "    \n",
    "    def reset(self, *, seed: Optional[int] = None, options: Optional[dict] = None,):\n",
    "        if hasattr(self.game, \"window\"):\n",
    "            try:\n",
    "                self.game.window.destroy()\n",
    "            except: pass\n",
    "        self.game = Snake.SnakeGame()\n",
    "        self.state = self.game.grid\n",
    "        self.lastScore = 0\n",
    "        return (np.array(self.state), {})\n",
    "    \n",
    "    \n",
    "    def render(self):\n",
    "        self.game.setupUI()\n",
    "        self.game.window.update()\n",
    "        pass\n",
    "    \n",
    "    def rightDirection(self):\n",
    "        game = self.game\n",
    "        if game.headPosX > game.foodPos[1] and game.direction == 0:\n",
    "            return True\n",
    "        elif game.headPosX < game.foodPos[1] and game.direction == 2:\n",
    "            return True\n",
    "        elif game.headPosX == game.foodPos[1]:\n",
    "            if game.headPosY > game.foodPos[0] and game.direction == 1:\n",
    "                return True\n",
    "            elif game.headPosY < game.foodPos[0] and game.direction == 3:\n",
    "                return True\n",
    "        return False\n",
    "            "
   ]
  },
  {
   "cell_type": "code",
   "execution_count": 15,
   "id": "33633436-9601-4618-9168-bcd0ba6f1d8b",
   "metadata": {
    "tags": []
   },
   "outputs": [],
   "source": [
    "env = SnakePlayer()"
   ]
  },
  {
   "cell_type": "code",
   "execution_count": 16,
   "id": "fea23f82-18f9-4857-ad61-7e54bc33a41b",
   "metadata": {
    "tags": []
   },
   "outputs": [
    {
     "name": "stdout",
     "output_type": "stream",
     "text": [
      "Durchgang: 1, Reward: -10, {'Steps': 16, 'Score': 0}\n",
      "Durchgang: 2, Reward: -45, {'Steps': 74, 'Score': 0}\n",
      "Durchgang: 3, Reward: -18, {'Steps': 44, 'Score': 0}\n",
      "Durchgang: 4, Reward: -19, {'Steps': 21, 'Score': 0}\n",
      "Durchgang: 5, Reward: -15, {'Steps': 15, 'Score': 0}\n"
     ]
    }
   ],
   "source": [
    "durchgaenge = 5  # Anzahl Durchgänge der Umgebung\n",
    "for d in range(durchgaenge):  # Teste die Umgebung X mal\n",
    "    state = env.reset()  # Setzt die Umgebung zurück und gibt einige Werte zurück\n",
    "    done = False  # Umgebungen können Zeitlimitiert sein (hier 200ms)\n",
    "    score = 0  # \n",
    "    \n",
    "    while not done:\n",
    "        env.render()  # Zeichne die Umgebung (falls möglich)\n",
    "        action = env.action_space.sample()  # sample(): Wählt eine zufällige Action\n",
    "        n_state, reward, done, term, info = env.step(action)\n",
    "        score += reward\n",
    "    print(f\"Durchgang: {d + 1}, Reward: {score}, {info}\")\n",
    "env.close()"
   ]
  },
  {
   "cell_type": "code",
   "execution_count": 10,
   "id": "29183269-18b3-4c39-8271-0b62f1afae5a",
   "metadata": {
    "tags": []
   },
   "outputs": [],
   "source": [
    "from stable_baselines3.common.env_checker import check_env"
   ]
  },
  {
   "cell_type": "code",
   "execution_count": 12,
   "id": "c51edf75-3db2-4471-b633-9283e3ff88b7",
   "metadata": {
    "tags": []
   },
   "outputs": [],
   "source": [
    "check_env(env, warn=True)"
   ]
  },
  {
   "cell_type": "code",
   "execution_count": 13,
   "id": "6ba04f2c-5dc1-4282-8704-e1c2a3a07f10",
   "metadata": {
    "tags": []
   },
   "outputs": [],
   "source": [
    "from stable_baselines3 import PPO"
   ]
  },
  {
   "cell_type": "code",
   "execution_count": 8,
   "id": "f44db9f6-76a2-4270-a00d-ed248013541e",
   "metadata": {
    "tags": []
   },
   "outputs": [
    {
     "name": "stdout",
     "output_type": "stream",
     "text": [
      "Using cpu device\n",
      "Wrapping the env with a `Monitor` wrapper\n",
      "Wrapping the env in a DummyVecEnv.\n"
     ]
    }
   ],
   "source": [
    "model = PPO(\"MlpPolicy\", env, verbose=1)"
   ]
  },
  {
   "cell_type": "code",
   "execution_count": 13,
   "id": "06a0d429-c485-48aa-a795-e00b7750a907",
   "metadata": {
    "collapsed": true,
    "jupyter": {
     "outputs_hidden": true
    },
    "tags": []
   },
   "outputs": [
    {
     "ename": "ImportError",
     "evalue": "You must install tqdm and rich in order to use the progress bar callback. It is included if you install stable-baselines with the extra packages: `pip install stable-baselines3[extra]`",
     "output_type": "error",
     "traceback": [
      "\u001b[1;31m---------------------------------------------------------------------------\u001b[0m",
      "\u001b[1;31mImportError\u001b[0m                               Traceback (most recent call last)",
      "Cell \u001b[1;32mIn[13], line 1\u001b[0m\n\u001b[1;32m----> 1\u001b[0m \u001b[43mmodel\u001b[49m\u001b[38;5;241;43m.\u001b[39;49m\u001b[43mlearn\u001b[49m\u001b[43m(\u001b[49m\u001b[43mtotal_timesteps\u001b[49m\u001b[38;5;241;43m=\u001b[39;49m\u001b[38;5;241;43m2400000\u001b[39;49m\u001b[43m,\u001b[49m\u001b[43m \u001b[49m\u001b[43mprogress_bar\u001b[49m\u001b[38;5;241;43m=\u001b[39;49m\u001b[38;5;28;43;01mTrue\u001b[39;49;00m\u001b[43m)\u001b[49m\n",
      "File \u001b[1;32m~\\Lokal\\PPKURS-Python-DataScience\\Demo\\venv\\lib\\site-packages\\stable_baselines3\\ppo\\ppo.py:308\u001b[0m, in \u001b[0;36mPPO.learn\u001b[1;34m(self, total_timesteps, callback, log_interval, tb_log_name, reset_num_timesteps, progress_bar)\u001b[0m\n\u001b[0;32m    299\u001b[0m \u001b[38;5;28;01mdef\u001b[39;00m \u001b[38;5;21mlearn\u001b[39m(\n\u001b[0;32m    300\u001b[0m     \u001b[38;5;28mself\u001b[39m: SelfPPO,\n\u001b[0;32m    301\u001b[0m     total_timesteps: \u001b[38;5;28mint\u001b[39m,\n\u001b[1;32m   (...)\u001b[0m\n\u001b[0;32m    306\u001b[0m     progress_bar: \u001b[38;5;28mbool\u001b[39m \u001b[38;5;241m=\u001b[39m \u001b[38;5;28;01mFalse\u001b[39;00m,\n\u001b[0;32m    307\u001b[0m ) \u001b[38;5;241m-\u001b[39m\u001b[38;5;241m>\u001b[39m SelfPPO:\n\u001b[1;32m--> 308\u001b[0m     \u001b[38;5;28;01mreturn\u001b[39;00m \u001b[38;5;28;43msuper\u001b[39;49m\u001b[43m(\u001b[49m\u001b[43m)\u001b[49m\u001b[38;5;241;43m.\u001b[39;49m\u001b[43mlearn\u001b[49m\u001b[43m(\u001b[49m\n\u001b[0;32m    309\u001b[0m \u001b[43m        \u001b[49m\u001b[43mtotal_timesteps\u001b[49m\u001b[38;5;241;43m=\u001b[39;49m\u001b[43mtotal_timesteps\u001b[49m\u001b[43m,\u001b[49m\n\u001b[0;32m    310\u001b[0m \u001b[43m        \u001b[49m\u001b[43mcallback\u001b[49m\u001b[38;5;241;43m=\u001b[39;49m\u001b[43mcallback\u001b[49m\u001b[43m,\u001b[49m\n\u001b[0;32m    311\u001b[0m \u001b[43m        \u001b[49m\u001b[43mlog_interval\u001b[49m\u001b[38;5;241;43m=\u001b[39;49m\u001b[43mlog_interval\u001b[49m\u001b[43m,\u001b[49m\n\u001b[0;32m    312\u001b[0m \u001b[43m        \u001b[49m\u001b[43mtb_log_name\u001b[49m\u001b[38;5;241;43m=\u001b[39;49m\u001b[43mtb_log_name\u001b[49m\u001b[43m,\u001b[49m\n\u001b[0;32m    313\u001b[0m \u001b[43m        \u001b[49m\u001b[43mreset_num_timesteps\u001b[49m\u001b[38;5;241;43m=\u001b[39;49m\u001b[43mreset_num_timesteps\u001b[49m\u001b[43m,\u001b[49m\n\u001b[0;32m    314\u001b[0m \u001b[43m        \u001b[49m\u001b[43mprogress_bar\u001b[49m\u001b[38;5;241;43m=\u001b[39;49m\u001b[43mprogress_bar\u001b[49m\u001b[43m,\u001b[49m\n\u001b[0;32m    315\u001b[0m \u001b[43m    \u001b[49m\u001b[43m)\u001b[49m\n",
      "File \u001b[1;32m~\\Lokal\\PPKURS-Python-DataScience\\Demo\\venv\\lib\\site-packages\\stable_baselines3\\common\\on_policy_algorithm.py:246\u001b[0m, in \u001b[0;36mOnPolicyAlgorithm.learn\u001b[1;34m(self, total_timesteps, callback, log_interval, tb_log_name, reset_num_timesteps, progress_bar)\u001b[0m\n\u001b[0;32m    235\u001b[0m \u001b[38;5;28;01mdef\u001b[39;00m \u001b[38;5;21mlearn\u001b[39m(\n\u001b[0;32m    236\u001b[0m     \u001b[38;5;28mself\u001b[39m: SelfOnPolicyAlgorithm,\n\u001b[0;32m    237\u001b[0m     total_timesteps: \u001b[38;5;28mint\u001b[39m,\n\u001b[1;32m   (...)\u001b[0m\n\u001b[0;32m    242\u001b[0m     progress_bar: \u001b[38;5;28mbool\u001b[39m \u001b[38;5;241m=\u001b[39m \u001b[38;5;28;01mFalse\u001b[39;00m,\n\u001b[0;32m    243\u001b[0m ) \u001b[38;5;241m-\u001b[39m\u001b[38;5;241m>\u001b[39m SelfOnPolicyAlgorithm:\n\u001b[0;32m    244\u001b[0m     iteration \u001b[38;5;241m=\u001b[39m \u001b[38;5;241m0\u001b[39m\n\u001b[1;32m--> 246\u001b[0m     total_timesteps, callback \u001b[38;5;241m=\u001b[39m \u001b[38;5;28;43mself\u001b[39;49m\u001b[38;5;241;43m.\u001b[39;49m\u001b[43m_setup_learn\u001b[49m\u001b[43m(\u001b[49m\n\u001b[0;32m    247\u001b[0m \u001b[43m        \u001b[49m\u001b[43mtotal_timesteps\u001b[49m\u001b[43m,\u001b[49m\n\u001b[0;32m    248\u001b[0m \u001b[43m        \u001b[49m\u001b[43mcallback\u001b[49m\u001b[43m,\u001b[49m\n\u001b[0;32m    249\u001b[0m \u001b[43m        \u001b[49m\u001b[43mreset_num_timesteps\u001b[49m\u001b[43m,\u001b[49m\n\u001b[0;32m    250\u001b[0m \u001b[43m        \u001b[49m\u001b[43mtb_log_name\u001b[49m\u001b[43m,\u001b[49m\n\u001b[0;32m    251\u001b[0m \u001b[43m        \u001b[49m\u001b[43mprogress_bar\u001b[49m\u001b[43m,\u001b[49m\n\u001b[0;32m    252\u001b[0m \u001b[43m    \u001b[49m\u001b[43m)\u001b[49m\n\u001b[0;32m    254\u001b[0m     callback\u001b[38;5;241m.\u001b[39mon_training_start(\u001b[38;5;28mlocals\u001b[39m(), \u001b[38;5;28mglobals\u001b[39m())\n\u001b[0;32m    256\u001b[0m     \u001b[38;5;28;01massert\u001b[39;00m \u001b[38;5;28mself\u001b[39m\u001b[38;5;241m.\u001b[39menv \u001b[38;5;129;01mis\u001b[39;00m \u001b[38;5;129;01mnot\u001b[39;00m \u001b[38;5;28;01mNone\u001b[39;00m\n",
      "File \u001b[1;32m~\\Lokal\\PPKURS-Python-DataScience\\Demo\\venv\\lib\\site-packages\\stable_baselines3\\common\\base_class.py:436\u001b[0m, in \u001b[0;36mBaseAlgorithm._setup_learn\u001b[1;34m(self, total_timesteps, callback, reset_num_timesteps, tb_log_name, progress_bar)\u001b[0m\n\u001b[0;32m    433\u001b[0m     \u001b[38;5;28mself\u001b[39m\u001b[38;5;241m.\u001b[39m_logger \u001b[38;5;241m=\u001b[39m utils\u001b[38;5;241m.\u001b[39mconfigure_logger(\u001b[38;5;28mself\u001b[39m\u001b[38;5;241m.\u001b[39mverbose, \u001b[38;5;28mself\u001b[39m\u001b[38;5;241m.\u001b[39mtensorboard_log, tb_log_name, reset_num_timesteps)\n\u001b[0;32m    435\u001b[0m \u001b[38;5;66;03m# Create eval callback if needed\u001b[39;00m\n\u001b[1;32m--> 436\u001b[0m callback \u001b[38;5;241m=\u001b[39m \u001b[38;5;28;43mself\u001b[39;49m\u001b[38;5;241;43m.\u001b[39;49m\u001b[43m_init_callback\u001b[49m\u001b[43m(\u001b[49m\u001b[43mcallback\u001b[49m\u001b[43m,\u001b[49m\u001b[43m \u001b[49m\u001b[43mprogress_bar\u001b[49m\u001b[43m)\u001b[49m\n\u001b[0;32m    438\u001b[0m \u001b[38;5;28;01mreturn\u001b[39;00m total_timesteps, callback\n",
      "File \u001b[1;32m~\\Lokal\\PPKURS-Python-DataScience\\Demo\\venv\\lib\\site-packages\\stable_baselines3\\common\\base_class.py:378\u001b[0m, in \u001b[0;36mBaseAlgorithm._init_callback\u001b[1;34m(self, callback, progress_bar)\u001b[0m\n\u001b[0;32m    376\u001b[0m \u001b[38;5;66;03m# Add progress bar callback\u001b[39;00m\n\u001b[0;32m    377\u001b[0m \u001b[38;5;28;01mif\u001b[39;00m progress_bar:\n\u001b[1;32m--> 378\u001b[0m     callback \u001b[38;5;241m=\u001b[39m CallbackList([callback, \u001b[43mProgressBarCallback\u001b[49m\u001b[43m(\u001b[49m\u001b[43m)\u001b[49m])\n\u001b[0;32m    380\u001b[0m callback\u001b[38;5;241m.\u001b[39minit_callback(\u001b[38;5;28mself\u001b[39m)\n\u001b[0;32m    381\u001b[0m \u001b[38;5;28;01mreturn\u001b[39;00m callback\n",
      "File \u001b[1;32m~\\Lokal\\PPKURS-Python-DataScience\\Demo\\venv\\lib\\site-packages\\stable_baselines3\\common\\callbacks.py:672\u001b[0m, in \u001b[0;36mProgressBarCallback.__init__\u001b[1;34m(self)\u001b[0m\n\u001b[0;32m    670\u001b[0m \u001b[38;5;28msuper\u001b[39m()\u001b[38;5;241m.\u001b[39m\u001b[38;5;21m__init__\u001b[39m()\n\u001b[0;32m    671\u001b[0m \u001b[38;5;28;01mif\u001b[39;00m tqdm \u001b[38;5;129;01mis\u001b[39;00m \u001b[38;5;28;01mNone\u001b[39;00m:\n\u001b[1;32m--> 672\u001b[0m     \u001b[38;5;28;01mraise\u001b[39;00m \u001b[38;5;167;01mImportError\u001b[39;00m(\n\u001b[0;32m    673\u001b[0m         \u001b[38;5;124m\"\u001b[39m\u001b[38;5;124mYou must install tqdm and rich in order to use the progress bar callback. \u001b[39m\u001b[38;5;124m\"\u001b[39m\n\u001b[0;32m    674\u001b[0m         \u001b[38;5;124m\"\u001b[39m\u001b[38;5;124mIt is included if you install stable-baselines with the extra packages: \u001b[39m\u001b[38;5;124m\"\u001b[39m\n\u001b[0;32m    675\u001b[0m         \u001b[38;5;124m\"\u001b[39m\u001b[38;5;124m`pip install stable-baselines3[extra]`\u001b[39m\u001b[38;5;124m\"\u001b[39m\n\u001b[0;32m    676\u001b[0m     )\n\u001b[0;32m    677\u001b[0m \u001b[38;5;28mself\u001b[39m\u001b[38;5;241m.\u001b[39mpbar \u001b[38;5;241m=\u001b[39m \u001b[38;5;28;01mNone\u001b[39;00m\n",
      "\u001b[1;31mImportError\u001b[0m: You must install tqdm and rich in order to use the progress bar callback. It is included if you install stable-baselines with the extra packages: `pip install stable-baselines3[extra]`"
     ]
    }
   ],
   "source": [
    "model.learn(total_timesteps=2400000)"
   ]
  },
  {
   "cell_type": "code",
   "execution_count": 10,
   "id": "bb06b12f-340c-4974-a2ad-f4e77a65e5f9",
   "metadata": {
    "tags": []
   },
   "outputs": [],
   "source": [
    "model.save('Models/Snake')"
   ]
  },
  {
   "cell_type": "code",
   "execution_count": 12,
   "id": "d59dc9c8-dc3d-4ef5-8c49-91e4be57b837",
   "metadata": {
    "tags": []
   },
   "outputs": [
    {
     "name": "stdout",
     "output_type": "stream",
     "text": [
      "Durchgang: 1, Score: 0, Steps: {'Steps': 1500, 'Score': 0}\n",
      "Durchgang: 2, Score: 0, Steps: {'Steps': 1995, 'Score': 0}\n",
      "Durchgang: 3, Score: 0, Steps: {'Steps': 546, 'Score': 0}\n",
      "Durchgang: 4, Score: 0, Steps: {'Steps': 703, 'Score': 0}\n",
      "Durchgang: 5, Score: 10, Steps: {'Steps': 692, 'Score': 1}\n",
      "Durchgang: 6, Score: 0, Steps: {'Steps': 942, 'Score': 0}\n",
      "Durchgang: 7, Score: 10, Steps: {'Steps': 562, 'Score': 1}\n",
      "Durchgang: 8, Score: 0, Steps: {'Steps': 1013, 'Score': 0}\n",
      "Durchgang: 9, Score: 0, Steps: {'Steps': 792, 'Score': 0}\n",
      "Durchgang: 10, Score: 0, Steps: {'Steps': 50, 'Score': 0}\n"
     ]
    }
   ],
   "source": [
    "durchgaenge = 10  # Anzahl Durchgänge der Umgebung\n",
    "for d in range(durchgaenge):  # Teste die Umgebung X mal\n",
    "    observation = env.reset()  # Setzt die Umgebung zurück und gibt einige Werte zurück\n",
    "    done = False  # Umgebungen können Zeitlimitiert sein (hier 200ms)\n",
    "    score = 0\n",
    "    \n",
    "    while not done:\n",
    "        # env.render()  # Zeichne die Umgebung (falls möglich)\n",
    "        if len(observation) == 2:\n",
    "            observation = observation[0]\n",
    "        action, _ = model.predict(observation)  # 2 Parameter: Action, next State (in wiederkehrenden Modellen)\n",
    "        observation, reward, done, term, info = env.step(action)\n",
    "        score += reward\n",
    "    print(f\"Durchgang: {d + 1}, Score: {score}, Steps: {info}\")\n",
    "env.close()"
   ]
  },
  {
   "cell_type": "code",
   "execution_count": null,
   "id": "88e884c2-3aea-4cd3-b1bf-15f8586545bc",
   "metadata": {},
   "outputs": [],
   "source": []
  }
 ],
 "metadata": {
  "kernelspec": {
   "display_name": "Python 3 (ipykernel)",
   "language": "python",
   "name": "python3"
  },
  "language_info": {
   "codemirror_mode": {
    "name": "ipython",
    "version": 3
   },
   "file_extension": ".py",
   "mimetype": "text/x-python",
   "name": "python",
   "nbconvert_exporter": "python",
   "pygments_lexer": "ipython3",
   "version": "3.10.6"
  }
 },
 "nbformat": 4,
 "nbformat_minor": 5
}
