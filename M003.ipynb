{
 "cells": [
  {
   "cell_type": "markdown",
   "id": "0c399e0e-70e7-423a-93b2-8466428f7f20",
   "metadata": {},
   "source": [
    "## Machine Learning\n",
    "\n",
    "Lernprozess:\n",
    "\n",
    "Daten werden in den Algorithmus gefüttert und der Algorithmus gibt eine Vorhersage für jeden Datensatz\n",
    "\n",
    "Dadurch ergibt sich eine Genauigkeit (Loss)\n",
    "\n",
    "Der Loss soll minimiert werden -> Loss wird wieder zum Anfang zurück gegeben\n",
    "\n",
    "Am Ende des Prozesses wird ein Model erzeugt"
   ]
  },
  {
   "cell_type": "markdown",
   "id": "561ff19f-78ba-48c3-859e-a1ac816f1199",
   "metadata": {},
   "source": [
    "## Modell\n",
    "\n",
    "Ein Model ist ein Programm, dass nicht von uns per Hand geschrieben wird, sondern von dem Algorithmus erzeugt wird\n",
    "\n",
    "Beispiel:\n",
    "\n",
    "Wetter Modell\n",
    "\n",
    "- Inputs: Datum, Uhrzeit, Wolken %, Niederschlag %\n",
    "\n",
    "- Output: Temperatur\n",
    "\n",
    "Modell werden die Inputs gefüttert, und es erzeugt einen Output (-> Temperatur)\n",
    "\n",
    "Danach kann dieses Model verwendet werden um Vorhersagen für die Temperatur zu erzeugen (im Testdatenset)\n",
    "\n",
    "Mögliche Ergebnisse:\n",
    "\n",
    "01.07., 12:00, 0%, 0%: 18°C\n",
    "\n",
    "01.07., 17:00, 0%, 0%: 30°C\n",
    "\n",
    "01.01., 05:00, 0%, 0%: -5°C\n",
    "\n",
    "01.01., 12:00, 50%, 0%: 3°C\n",
    "\n",
    "\n",
    "Vorhersagen:\n",
    "\n",
    "1: 21°C\n",
    "\n",
    "2: 32°C\n",
    "\n",
    "3: -1°C\n",
    "\n",
    "4: 5°C\n",
    "\n",
    "\n",
    "Am Ende wird ein Model erzeugt, welches wir befragen können nach der Temperatur mit den 4 Inputs\n",
    "\n",
    "09.10.2023, 12:00, 20%, 0%: 16°C\n",
    "\n",
    "\n",
    "Bei 4 Inputs kann noch per Hand ein Programm geschrieben werden, bei 10+ Inputs ist es schwieriger"
   ]
  },
  {
   "cell_type": "code",
   "execution_count": null,
   "id": "fa576a5e-124e-453d-baa9-cbe5056257b4",
   "metadata": {},
   "outputs": [],
   "source": []
  }
 ],
 "metadata": {
  "kernelspec": {
   "display_name": "Python 3 (ipykernel)",
   "language": "python",
   "name": "python3"
  },
  "language_info": {
   "codemirror_mode": {
    "name": "ipython",
    "version": 3
   },
   "file_extension": ".py",
   "mimetype": "text/x-python",
   "name": "python",
   "nbconvert_exporter": "python",
   "pygments_lexer": "ipython3",
   "version": "3.10.6"
  }
 },
 "nbformat": 4,
 "nbformat_minor": 5
}
