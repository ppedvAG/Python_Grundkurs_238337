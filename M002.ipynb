{
 "cells": [
  {
   "cell_type": "markdown",
   "id": "689fa491-be72-4114-9c98-4dd02f526c15",
   "metadata": {},
   "source": [
    "## Numpy"
   ]
  },
  {
   "cell_type": "markdown",
   "id": "ec20e256-ea07-4181-b014-2515c26a0da1",
   "metadata": {},
   "source": [
    "Ermöglicht uns Arrays zu erstellen die mit C-basierten Zahlen befüllt sind\n",
    "\n",
    "Muss installiert und importiert werden"
   ]
  },
  {
   "cell_type": "code",
   "execution_count": 1,
   "id": "194f1d05-9d70-4b6f-b04d-da5be4e64852",
   "metadata": {},
   "outputs": [],
   "source": [
    "import numpy as np"
   ]
  },
  {
   "cell_type": "markdown",
   "id": "83e5505a-d71d-4d51-8607-234aa56f08e2",
   "metadata": {},
   "source": [
    "## Arrays\n",
    "\n",
    "Numpy Array aus einer Python Liste erzeugen"
   ]
  },
  {
   "cell_type": "code",
   "execution_count": 5,
   "id": "c06a7dfb-1b10-44cb-9bbb-1907668d9892",
   "metadata": {},
   "outputs": [
    {
     "data": {
      "text/plain": [
       "array([1, 2, 3, 4])"
      ]
     },
     "execution_count": 5,
     "metadata": {},
     "output_type": "execute_result"
    }
   ],
   "source": [
    "np.array([1, 2, 3, 4])"
   ]
  },
  {
   "cell_type": "code",
   "execution_count": 6,
   "id": "b82aae21-33ab-44cd-8909-785a700b2345",
   "metadata": {},
   "outputs": [],
   "source": [
    "a = np.array([1, 2, 3, 4])"
   ]
  },
  {
   "cell_type": "code",
   "execution_count": 7,
   "id": "b0acb891-9710-4289-8794-10c05a1ea7aa",
   "metadata": {},
   "outputs": [
    {
     "data": {
      "text/plain": [
       "array([1, 2, 3, 4])"
      ]
     },
     "execution_count": 7,
     "metadata": {},
     "output_type": "execute_result"
    }
   ],
   "source": [
    "a"
   ]
  },
  {
   "cell_type": "code",
   "execution_count": 10,
   "id": "f2b21ed3-c3cc-4250-83ea-ac350a0ee32a",
   "metadata": {},
   "outputs": [
    {
     "data": {
      "text/plain": [
       "(1, 2)"
      ]
     },
     "execution_count": 10,
     "metadata": {},
     "output_type": "execute_result"
    }
   ],
   "source": [
    "a[0], a[1]  # Index auch möglich"
   ]
  },
  {
   "cell_type": "code",
   "execution_count": 11,
   "id": "87996e09-f5a4-4a4a-88ba-4d15f53d1bb1",
   "metadata": {},
   "outputs": [],
   "source": [
    "b = np.array([4.2, 7.3, 1.9, 4.66])"
   ]
  },
  {
   "cell_type": "code",
   "execution_count": 12,
   "id": "339d0598-67c8-4fd1-8239-13e049ef0d34",
   "metadata": {},
   "outputs": [
    {
     "data": {
      "text/plain": [
       "array([4.2 , 7.3 , 1.9 , 4.66])"
      ]
     },
     "execution_count": 12,
     "metadata": {},
     "output_type": "execute_result"
    }
   ],
   "source": [
    "b"
   ]
  },
  {
   "cell_type": "markdown",
   "id": "f2e112bb-32c6-43a5-b41f-d193a9ff004d",
   "metadata": {},
   "source": [
    "## Typen\n",
    "\n",
    "Standardmäßig int (4 Byte pro Zahl), kann ineffizient sein"
   ]
  },
  {
   "cell_type": "code",
   "execution_count": 13,
   "id": "47b6d40a-1bdc-4b59-95e4-7f0e62046e62",
   "metadata": {},
   "outputs": [
    {
     "data": {
      "text/plain": [
       "dtype('int32')"
      ]
     },
     "execution_count": 13,
     "metadata": {},
     "output_type": "execute_result"
    }
   ],
   "source": [
    "a.dtype"
   ]
  },
  {
   "cell_type": "code",
   "execution_count": 14,
   "id": "c1b251c8-80b9-477c-9eb6-af7526f2d396",
   "metadata": {},
   "outputs": [
    {
     "data": {
      "text/plain": [
       "dtype('float64')"
      ]
     },
     "execution_count": 14,
     "metadata": {},
     "output_type": "execute_result"
    }
   ],
   "source": [
    "b.dtype"
   ]
  },
  {
   "cell_type": "markdown",
   "id": "2e5da7a9-09ee-43b9-8d69-2566a89af204",
   "metadata": {},
   "source": [
    "Nachdem Numpy in C geschrieben ist, haben wir effizientere Typen"
   ]
  },
  {
   "cell_type": "code",
   "execution_count": 15,
   "id": "ce2eeb27-4eb9-4d43-b650-81fb757bec7d",
   "metadata": {},
   "outputs": [],
   "source": [
    "c = np.array([1, 2, 3, 4], dtype=np.int8)"
   ]
  },
  {
   "cell_type": "code",
   "execution_count": 16,
   "id": "2eeb8ddd-fef9-4437-824e-a0620710e420",
   "metadata": {},
   "outputs": [
    {
     "data": {
      "text/plain": [
       "array([1, 2, 3, 4], dtype=int8)"
      ]
     },
     "execution_count": 16,
     "metadata": {},
     "output_type": "execute_result"
    }
   ],
   "source": [
    "c"
   ]
  },
  {
   "cell_type": "code",
   "execution_count": 23,
   "id": "867f3f29-7282-4d21-a084-6c5930265054",
   "metadata": {},
   "outputs": [],
   "source": [
    "d = np.array([2.3, 1.6, 9.3], dtype=np.float16)"
   ]
  },
  {
   "cell_type": "code",
   "execution_count": 24,
   "id": "7f6febb5-d71c-4415-b4d9-d2922c2edaa2",
   "metadata": {},
   "outputs": [
    {
     "data": {
      "text/plain": [
       "array([2.3, 1.6, 9.3], dtype=float16)"
      ]
     },
     "execution_count": 24,
     "metadata": {},
     "output_type": "execute_result"
    }
   ],
   "source": [
    "d"
   ]
  },
  {
   "cell_type": "markdown",
   "id": "ea16a786-82c0-43ba-99f2-557a208810c9",
   "metadata": {},
   "source": [
    "## Matrizen\n",
    "\n",
    "Matrizen werden bei Datensets oft benötigt, da Tabellen zweidimensional sind"
   ]
  },
  {
   "cell_type": "code",
   "execution_count": 80,
   "id": "32a81294-b925-4f07-a12a-00212cdbe0d5",
   "metadata": {},
   "outputs": [],
   "source": [
    "m = np.array(\n",
    "    [\n",
    "        [1, 2, 3],\n",
    "        [4, 5, 6],\n",
    "        [7, 8, 9]\n",
    "    ]\n",
    ")"
   ]
  },
  {
   "cell_type": "code",
   "execution_count": 41,
   "id": "eff3d0e3-365b-4c3e-99a4-d520755fe261",
   "metadata": {},
   "outputs": [
    {
     "data": {
      "text/plain": [
       "array([[1, 2, 3],\n",
       "       [4, 5, 6],\n",
       "       [7, 8, 9]])"
      ]
     },
     "execution_count": 41,
     "metadata": {},
     "output_type": "execute_result"
    }
   ],
   "source": [
    "m"
   ]
  },
  {
   "cell_type": "code",
   "execution_count": 42,
   "id": "fa1b61b5-04ae-4f9d-9b02-0f908eaead54",
   "metadata": {},
   "outputs": [
    {
     "data": {
      "text/plain": [
       "(3, 3)"
      ]
     },
     "execution_count": 42,
     "metadata": {},
     "output_type": "execute_result"
    }
   ],
   "source": [
    "m.shape"
   ]
  },
  {
   "cell_type": "code",
   "execution_count": 43,
   "id": "0fd757c2-8e33-4471-974b-4b215fc64929",
   "metadata": {},
   "outputs": [
    {
     "data": {
      "text/plain": [
       "2"
      ]
     },
     "execution_count": 43,
     "metadata": {},
     "output_type": "execute_result"
    }
   ],
   "source": [
    "m.ndim"
   ]
  },
  {
   "cell_type": "code",
   "execution_count": 44,
   "id": "977d43d4-a751-4e29-a876-2eefb8e80101",
   "metadata": {},
   "outputs": [
    {
     "data": {
      "text/plain": [
       "9"
      ]
     },
     "execution_count": 44,
     "metadata": {},
     "output_type": "execute_result"
    }
   ],
   "source": [
    "m.size"
   ]
  },
  {
   "cell_type": "markdown",
   "id": "dd715097-b1a0-41ba-a991-32ab075e5894",
   "metadata": {},
   "source": [
    "## Matrix angreifen"
   ]
  },
  {
   "cell_type": "code",
   "execution_count": 51,
   "id": "a054bb9a-fb42-44b6-8b06-deb6e81cbef7",
   "metadata": {},
   "outputs": [
    {
     "data": {
      "text/plain": [
       "array([1, 2, 3])"
      ]
     },
     "execution_count": 51,
     "metadata": {},
     "output_type": "execute_result"
    }
   ],
   "source": [
    "m[0]"
   ]
  },
  {
   "cell_type": "code",
   "execution_count": 52,
   "id": "2aae556a-9464-4628-9c71-c79612952c4c",
   "metadata": {},
   "outputs": [
    {
     "data": {
      "text/plain": [
       "2"
      ]
     },
     "execution_count": 52,
     "metadata": {},
     "output_type": "execute_result"
    }
   ],
   "source": [
    "m[0][1]"
   ]
  },
  {
   "cell_type": "code",
   "execution_count": 54,
   "id": "e212357e-4380-4b14-bfbc-6ecc8dc24e9e",
   "metadata": {},
   "outputs": [
    {
     "data": {
      "text/plain": [
       "2"
      ]
     },
     "execution_count": 54,
     "metadata": {},
     "output_type": "execute_result"
    }
   ],
   "source": [
    "m[0, 1]  # In Python nicht möglich"
   ]
  },
  {
   "cell_type": "code",
   "execution_count": 56,
   "id": "a838ba2f-7278-4db6-b004-df67967703b6",
   "metadata": {},
   "outputs": [
    {
     "data": {
      "text/plain": [
       "array([2, 3])"
      ]
     },
     "execution_count": 56,
     "metadata": {},
     "output_type": "execute_result"
    }
   ],
   "source": [
    "m[0, 1:3]  # Beriche sind hier auch möglich"
   ]
  },
  {
   "cell_type": "code",
   "execution_count": 58,
   "id": "f4faefa2-d3bd-42fa-bee3-120839b4f017",
   "metadata": {},
   "outputs": [
    {
     "data": {
      "text/plain": [
       "9"
      ]
     },
     "execution_count": 58,
     "metadata": {},
     "output_type": "execute_result"
    }
   ],
   "source": [
    "m[-1, -1]"
   ]
  },
  {
   "cell_type": "markdown",
   "id": "179a3bf3-7ea5-4f2b-b969-19b1af7288e9",
   "metadata": {},
   "source": [
    "## Slicing von Matrizen"
   ]
  },
  {
   "cell_type": "markdown",
   "id": "cef6d5f7-6286-48e1-81ae-6c69987722ec",
   "metadata": {},
   "source": [
    "Mit Doppelpunkten können Bereiche angegeben werden"
   ]
  },
  {
   "cell_type": "code",
   "execution_count": 77,
   "id": "6569e667-db2e-4645-8eab-7bad341cb672",
   "metadata": {},
   "outputs": [
    {
     "data": {
      "text/plain": [
       "array([[1, 2, 3],\n",
       "       [4, 5, 6],\n",
       "       [7, 8, 9]])"
      ]
     },
     "execution_count": 77,
     "metadata": {},
     "output_type": "execute_result"
    }
   ],
   "source": [
    "m[:]"
   ]
  },
  {
   "cell_type": "code",
   "execution_count": 69,
   "id": "da70ed77-fd51-44dc-8282-2bca121b5d71",
   "metadata": {},
   "outputs": [
    {
     "data": {
      "text/plain": [
       "array([2, 5, 8])"
      ]
     },
     "execution_count": 69,
     "metadata": {},
     "output_type": "execute_result"
    }
   ],
   "source": [
    "m[:, 1]  # Nimm alle X-Arrays aber nur das 1er Y-Array"
   ]
  },
  {
   "cell_type": "code",
   "execution_count": 62,
   "id": "186e3257-dfc1-4146-b52e-2fa9eec554c7",
   "metadata": {},
   "outputs": [
    {
     "data": {
      "text/plain": [
       "array([[2, 3],\n",
       "       [5, 6],\n",
       "       [8, 9]])"
      ]
     },
     "execution_count": 62,
     "metadata": {},
     "output_type": "execute_result"
    }
   ],
   "source": [
    "m[:, 1:3]"
   ]
  },
  {
   "cell_type": "markdown",
   "id": "9bf8f5e2-13a8-4875-8b6c-ec7053967413",
   "metadata": {},
   "source": [
    "## Neue Werte eintragen"
   ]
  },
  {
   "cell_type": "code",
   "execution_count": 78,
   "id": "c1dcd6c1-ccd4-4120-83b3-8e7898ff79a1",
   "metadata": {},
   "outputs": [],
   "source": [
    "m[:] = 5"
   ]
  },
  {
   "cell_type": "code",
   "execution_count": 81,
   "id": "dbc80a0c-f1d5-46ae-abf6-ccccc461d71e",
   "metadata": {},
   "outputs": [],
   "source": [
    "m[1, 1] = 100"
   ]
  },
  {
   "cell_type": "code",
   "execution_count": 82,
   "id": "b9a52985-bdb2-40ea-a1b7-10a5db244b3b",
   "metadata": {},
   "outputs": [
    {
     "data": {
      "text/plain": [
       "array([[  1,   2,   3],\n",
       "       [  4, 100,   6],\n",
       "       [  7,   8,   9]])"
      ]
     },
     "execution_count": 82,
     "metadata": {},
     "output_type": "execute_result"
    }
   ],
   "source": [
    "m"
   ]
  },
  {
   "cell_type": "code",
   "execution_count": 83,
   "id": "185e5207-0733-469b-98b8-04ad34005cc8",
   "metadata": {},
   "outputs": [],
   "source": [
    "m[:, 1] = 100"
   ]
  },
  {
   "cell_type": "code",
   "execution_count": 84,
   "id": "a185f13e-2c1e-4db6-aba6-ee770d4be19d",
   "metadata": {},
   "outputs": [
    {
     "data": {
      "text/plain": [
       "array([[  1, 100,   3],\n",
       "       [  4, 100,   6],\n",
       "       [  7, 100,   9]])"
      ]
     },
     "execution_count": 84,
     "metadata": {},
     "output_type": "execute_result"
    }
   ],
   "source": [
    "m"
   ]
  },
  {
   "cell_type": "code",
   "execution_count": 85,
   "id": "5dc07434-33d8-489b-b730-c76b75d6ae73",
   "metadata": {},
   "outputs": [],
   "source": [
    "m[1, :] = 200"
   ]
  },
  {
   "cell_type": "code",
   "execution_count": 86,
   "id": "2543949d-c89d-4401-a288-c00c8c9014fd",
   "metadata": {},
   "outputs": [
    {
     "data": {
      "text/plain": [
       "array([[  1, 100,   3],\n",
       "       [200, 200, 200],\n",
       "       [  7, 100,   9]])"
      ]
     },
     "execution_count": 86,
     "metadata": {},
     "output_type": "execute_result"
    }
   ],
   "source": [
    "m"
   ]
  },
  {
   "cell_type": "markdown",
   "id": "79d2f19e-988d-439e-a329-9ebedf5d2026",
   "metadata": {},
   "source": [
    "## Einfache Analyse von Matrizen"
   ]
  },
  {
   "cell_type": "code",
   "execution_count": 87,
   "id": "f4e0a2ca-a049-49f4-9f03-49e6bb266d55",
   "metadata": {},
   "outputs": [
    {
     "data": {
      "text/plain": [
       "820"
      ]
     },
     "execution_count": 87,
     "metadata": {},
     "output_type": "execute_result"
    }
   ],
   "source": [
    "m.sum()"
   ]
  },
  {
   "cell_type": "code",
   "execution_count": 88,
   "id": "94dd3e6d-7925-4469-acb1-16469a5cb61b",
   "metadata": {},
   "outputs": [
    {
     "data": {
      "text/plain": [
       "91.11111111111111"
      ]
     },
     "execution_count": 88,
     "metadata": {},
     "output_type": "execute_result"
    }
   ],
   "source": [
    "m.mean()"
   ]
  },
  {
   "cell_type": "code",
   "execution_count": 92,
   "id": "38088f43-ee17-4bc4-b99c-a377d1873aa5",
   "metadata": {},
   "outputs": [
    {
     "data": {
      "text/plain": [
       "85.26357102074647"
      ]
     },
     "execution_count": 92,
     "metadata": {},
     "output_type": "execute_result"
    }
   ],
   "source": [
    "m.std()"
   ]
  },
  {
   "cell_type": "code",
   "execution_count": 93,
   "id": "9317ebac-1815-450f-afc5-ea9804e0a89c",
   "metadata": {},
   "outputs": [
    {
     "data": {
      "text/plain": [
       "7269.876543209877"
      ]
     },
     "execution_count": 93,
     "metadata": {},
     "output_type": "execute_result"
    }
   ],
   "source": [
    "m.var()"
   ]
  },
  {
   "cell_type": "code",
   "execution_count": 94,
   "id": "77803920-9a65-48be-8786-a19af28cf227",
   "metadata": {},
   "outputs": [
    {
     "data": {
      "text/plain": [
       "10"
      ]
     },
     "execution_count": 94,
     "metadata": {},
     "output_type": "execute_result"
    }
   ],
   "source": [
    "a.sum()"
   ]
  },
  {
   "cell_type": "markdown",
   "id": "9e144c33-52b4-4df8-9d8e-b3ad5c12cc62",
   "metadata": {},
   "source": [
    "Auch Achsen sind möglich (bei Matrix)"
   ]
  },
  {
   "cell_type": "code",
   "execution_count": 96,
   "id": "bb4b1f0a-23b6-4ce7-98cf-8a672bf16347",
   "metadata": {},
   "outputs": [
    {
     "data": {
      "text/plain": [
       "array([208, 400, 212])"
      ]
     },
     "execution_count": 96,
     "metadata": {},
     "output_type": "execute_result"
    }
   ],
   "source": [
    "m.sum(axis=0)  # 0: Y-Achse, 1: X-Achse"
   ]
  },
  {
   "cell_type": "code",
   "execution_count": 97,
   "id": "b3ba388a-9e90-476e-b915-a205cf17d47f",
   "metadata": {},
   "outputs": [
    {
     "data": {
      "text/plain": [
       "array([104, 600, 116])"
      ]
     },
     "execution_count": 97,
     "metadata": {},
     "output_type": "execute_result"
    }
   ],
   "source": [
    "m.sum(axis=1)"
   ]
  },
  {
   "cell_type": "code",
   "execution_count": 98,
   "id": "ddf2e1ac-a498-45d6-a889-bdad07c63477",
   "metadata": {},
   "outputs": [
    {
     "data": {
      "text/plain": [
       "array([ 69.33333333, 133.33333333,  70.66666667])"
      ]
     },
     "execution_count": 98,
     "metadata": {},
     "output_type": "execute_result"
    }
   ],
   "source": [
    "m.mean(axis=0)"
   ]
  },
  {
   "cell_type": "markdown",
   "id": "319bf707-2de8-432e-8041-558a20d7cc69",
   "metadata": {},
   "source": [
    "## Vektorisierung\n",
    "\n",
    "Ein gesamtes Array mit einer Operation bearbeiten"
   ]
  },
  {
   "cell_type": "code",
   "execution_count": 102,
   "id": "4670b163-593c-46f0-8ad4-c49a656fb351",
   "metadata": {},
   "outputs": [],
   "source": [
    "v = np.arange(10)  # Erzeugt ein Array von 0 bis Max -> array-range = arange"
   ]
  },
  {
   "cell_type": "code",
   "execution_count": 101,
   "id": "22165bd9-e826-4e44-94aa-f9469a208957",
   "metadata": {},
   "outputs": [
    {
     "data": {
      "text/plain": [
       "array([0, 1, 2, 3, 4, 5, 6, 7, 8, 9])"
      ]
     },
     "execution_count": 101,
     "metadata": {},
     "output_type": "execute_result"
    }
   ],
   "source": [
    "v"
   ]
  },
  {
   "cell_type": "code",
   "execution_count": 104,
   "id": "657b3dd2-3fef-45b6-a7e4-dfeb7b841b3b",
   "metadata": {},
   "outputs": [
    {
     "data": {
      "text/plain": [
       "array([10, 11, 12, 13, 14, 15, 16, 17, 18, 19])"
      ]
     },
     "execution_count": 104,
     "metadata": {},
     "output_type": "execute_result"
    }
   ],
   "source": [
    "v + 10  # Jedes Element um 10 addieren"
   ]
  },
  {
   "cell_type": "code",
   "execution_count": 106,
   "id": "50659881-478d-400d-9b08-6fd85899b91f",
   "metadata": {},
   "outputs": [],
   "source": [
    "v += 10"
   ]
  },
  {
   "cell_type": "code",
   "execution_count": 107,
   "id": "389ba15a-2d7d-4d5f-bfc9-1f6b6b1f9347",
   "metadata": {},
   "outputs": [
    {
     "data": {
      "text/plain": [
       "array([10, 11, 12, 13, 14, 15, 16, 17, 18, 19])"
      ]
     },
     "execution_count": 107,
     "metadata": {},
     "output_type": "execute_result"
    }
   ],
   "source": [
    "v"
   ]
  },
  {
   "cell_type": "markdown",
   "id": "3ca6b6cb-9a1c-4ac3-af0c-c24ed8a0ace2",
   "metadata": {},
   "source": [
    "## Boolean Masken\n",
    "\n",
    "Daten filtern"
   ]
  },
  {
   "cell_type": "code",
   "execution_count": 108,
   "id": "175106ac-e4a9-49e8-9265-cf27fcc39d3c",
   "metadata": {},
   "outputs": [
    {
     "data": {
      "text/plain": [
       "array([10, 11, 12, 13, 14, 15, 16, 17, 18, 19])"
      ]
     },
     "execution_count": 108,
     "metadata": {},
     "output_type": "execute_result"
    }
   ],
   "source": [
    "v"
   ]
  },
  {
   "cell_type": "code",
   "execution_count": 112,
   "id": "a96b8afd-bb00-4e2e-ac24-14f86a72165e",
   "metadata": {},
   "outputs": [
    {
     "data": {
      "text/plain": [
       "array([0, 1, 0, 1, 0, 1, 0, 1, 0, 1], dtype=int32)"
      ]
     },
     "execution_count": 112,
     "metadata": {},
     "output_type": "execute_result"
    }
   ],
   "source": [
    "v % 2  # Boolean Maske erstellen (Array mit 0 und 1)"
   ]
  },
  {
   "cell_type": "code",
   "execution_count": 113,
   "id": "bc35b440-06e0-4cf0-b173-e9b13e8ea335",
   "metadata": {},
   "outputs": [
    {
     "data": {
      "text/plain": [
       "array([10, 12, 14, 16, 18])"
      ]
     },
     "execution_count": 113,
     "metadata": {},
     "output_type": "execute_result"
    }
   ],
   "source": [
    "v[v % 2 == 0]  # Boolean Maske auf das Array anwenden"
   ]
  },
  {
   "cell_type": "code",
   "execution_count": 114,
   "id": "d41b8cf6-93ff-45d3-b608-5e7cc1210fc5",
   "metadata": {},
   "outputs": [
    {
     "data": {
      "text/plain": [
       "array([False, False, False, False, False,  True,  True,  True,  True,\n",
       "        True])"
      ]
     },
     "execution_count": 114,
     "metadata": {},
     "output_type": "execute_result"
    }
   ],
   "source": [
    "v >= 15"
   ]
  },
  {
   "cell_type": "code",
   "execution_count": 115,
   "id": "787cefaa-7bdd-485f-b7d5-31ea428d6443",
   "metadata": {},
   "outputs": [
    {
     "data": {
      "text/plain": [
       "array([15, 16, 17, 18, 19])"
      ]
     },
     "execution_count": 115,
     "metadata": {},
     "output_type": "execute_result"
    }
   ],
   "source": [
    "v[v >= 15]"
   ]
  },
  {
   "cell_type": "markdown",
   "id": "5b11d9cd-46f5-49c2-b99f-88a32517f1be",
   "metadata": {},
   "source": [
    "## Vektorisierung mit Matrix"
   ]
  },
  {
   "cell_type": "code",
   "execution_count": 116,
   "id": "6d1c4bdf-fe74-47d6-bd86-251d116b6ef0",
   "metadata": {},
   "outputs": [
    {
     "data": {
      "text/plain": [
       "array([[  1, 100,   3],\n",
       "       [200, 200, 200],\n",
       "       [  7, 100,   9]])"
      ]
     },
     "execution_count": 116,
     "metadata": {},
     "output_type": "execute_result"
    }
   ],
   "source": [
    "m"
   ]
  },
  {
   "cell_type": "code",
   "execution_count": 117,
   "id": "274ac6db-7210-4cb2-9ddc-a4b22b21cf82",
   "metadata": {},
   "outputs": [
    {
     "data": {
      "text/plain": [
       "91.11111111111111"
      ]
     },
     "execution_count": 117,
     "metadata": {},
     "output_type": "execute_result"
    }
   ],
   "source": [
    "m.mean()"
   ]
  },
  {
   "cell_type": "code",
   "execution_count": 118,
   "id": "6d23b828-504c-4701-bbcf-a1c75b1bc5ce",
   "metadata": {},
   "outputs": [
    {
     "data": {
      "text/plain": [
       "array([100, 200, 200, 200, 100])"
      ]
     },
     "execution_count": 118,
     "metadata": {},
     "output_type": "execute_result"
    }
   ],
   "source": [
    "m[m > m.mean()]"
   ]
  },
  {
   "cell_type": "code",
   "execution_count": 120,
   "id": "b9e6308a-38a3-42cd-a524-fadb61d9fdc1",
   "metadata": {},
   "outputs": [
    {
     "data": {
      "text/plain": [
       "array([200])"
      ]
     },
     "execution_count": 120,
     "metadata": {},
     "output_type": "execute_result"
    }
   ],
   "source": [
    "m[:, 1][m[:, 1] >= 150]"
   ]
  },
  {
   "cell_type": "code",
   "execution_count": 121,
   "id": "1267f330-d954-4b90-a856-95fb6487e49c",
   "metadata": {},
   "outputs": [],
   "source": [
    "spalte = m[:, 1]"
   ]
  },
  {
   "cell_type": "code",
   "execution_count": 122,
   "id": "12efc174-2b40-4d5b-80ec-09990c687d8d",
   "metadata": {
    "scrolled": true
   },
   "outputs": [
    {
     "data": {
      "text/plain": [
       "array([200])"
      ]
     },
     "execution_count": 122,
     "metadata": {},
     "output_type": "execute_result"
    }
   ],
   "source": [
    "spalte[spalte >= 150]"
   ]
  },
  {
   "cell_type": "code",
   "execution_count": 131,
   "id": "78e708f2-b80e-437b-a913-be8fac5690bd",
   "metadata": {},
   "outputs": [
    {
     "data": {
      "text/plain": [
       "array([[ 0,  1,  2,  3,  4,  5,  6,  7,  8],\n",
       "       [ 9, 10, 11, 12, 13, 14, 15, 16, 17],\n",
       "       [18, 19, 20, 21, 22, 23, 24, 25, 26],\n",
       "       [27, 28, 29, 30, 31, 32, 33, 34, 35],\n",
       "       [36, 37, 38, 39, 40, 41, 42, 43, 44],\n",
       "       [45, 46, 47, 48, 49, 50, 51, 52, 53],\n",
       "       [54, 55, 56, 57, 58, 59, 60, 61, 62],\n",
       "       [63, 64, 65, 66, 67, 68, 69, 70, 71],\n",
       "       [72, 73, 74, 75, 76, 77, 78, 79, 80],\n",
       "       [81, 82, 83, 84, 85, 86, 87, 88, 89],\n",
       "       [90, 91, 92, 93, 94, 95, 96, 97, 98]])"
      ]
     },
     "execution_count": 131,
     "metadata": {},
     "output_type": "execute_result"
    }
   ],
   "source": [
    "np.arange(99).reshape(11, 9)  # 2D-Arrays mittels Reshape erstellen"
   ]
  },
  {
   "cell_type": "code",
   "execution_count": 139,
   "id": "310e6f42-fae5-4db2-97a4-b3c272df63a1",
   "metadata": {},
   "outputs": [],
   "source": [
    "r = np.random.randint(100, size=(10, 10))"
   ]
  },
  {
   "cell_type": "code",
   "execution_count": 140,
   "id": "333717db-c258-41d2-b73a-4e2f19a6ad50",
   "metadata": {},
   "outputs": [
    {
     "data": {
      "text/plain": [
       "array([[72, 53, 92, 83, 28, 86, 92, 11, 27, 42],\n",
       "       [99, 38, 47, 86,  3, 71, 35, 65,  8, 52],\n",
       "       [ 9,  4,  4, 24, 58, 99,  0, 51, 41, 43],\n",
       "       [70, 81, 75, 72, 39, 69, 68, 15, 51, 86],\n",
       "       [ 0, 29,  8,  1, 78, 18, 29, 21, 70, 78],\n",
       "       [20, 41, 50, 50, 69, 14, 21, 42, 35, 72],\n",
       "       [19, 32, 81, 44,  6, 74, 81, 48, 94, 93],\n",
       "       [42, 46,  2, 67, 18, 87,  9, 87, 54, 37],\n",
       "       [71, 94, 72, 54, 90, 71, 81, 43, 17, 25],\n",
       "       [93, 18,  8, 46,  3, 58,  2, 13, 65, 91]])"
      ]
     },
     "execution_count": 140,
     "metadata": {},
     "output_type": "execute_result"
    }
   ],
   "source": [
    "r"
   ]
  },
  {
   "cell_type": "code",
   "execution_count": 141,
   "id": "b892e9b7-96e4-4961-8c18-34da799ef02f",
   "metadata": {},
   "outputs": [],
   "source": [
    "# Alle überdurchschnittlichen Werte finden"
   ]
  },
  {
   "cell_type": "code",
   "execution_count": 142,
   "id": "ff877347-8143-4c11-a98d-90c11f6d63ec",
   "metadata": {},
   "outputs": [
    {
     "data": {
      "text/plain": [
       "48.31"
      ]
     },
     "execution_count": 142,
     "metadata": {},
     "output_type": "execute_result"
    }
   ],
   "source": [
    "r.mean()"
   ]
  },
  {
   "cell_type": "code",
   "execution_count": 144,
   "id": "98637a8f-f589-445b-9177-4a81f3cb73c0",
   "metadata": {},
   "outputs": [],
   "source": [
    "anz = r[r > r.mean()]"
   ]
  },
  {
   "cell_type": "code",
   "execution_count": 146,
   "id": "be78eccd-a3ea-444e-97ac-b4d1f17ce6ef",
   "metadata": {},
   "outputs": [
    {
     "data": {
      "text/plain": [
       "49"
      ]
     },
     "execution_count": 146,
     "metadata": {},
     "output_type": "execute_result"
    }
   ],
   "source": [
    "len(anz)  # Standard len Funktion von Python"
   ]
  },
  {
   "cell_type": "markdown",
   "id": "3f782006-8718-46c1-a260-baca2e819b9b",
   "metadata": {},
   "source": [
    "## Performance"
   ]
  },
  {
   "cell_type": "code",
   "execution_count": 150,
   "id": "9c775373-bcd6-4899-b44c-3043d4332419",
   "metadata": {},
   "outputs": [],
   "source": [
    "import sys"
   ]
  },
  {
   "cell_type": "code",
   "execution_count": 151,
   "id": "f5f033a0-b014-4191-a7be-5fa98018dc9c",
   "metadata": {},
   "outputs": [],
   "source": [
    "x = 6  # Normaler Python int"
   ]
  },
  {
   "cell_type": "code",
   "execution_count": 153,
   "id": "89c42fcd-4748-4047-a5e1-bb05a33913a2",
   "metadata": {},
   "outputs": [
    {
     "data": {
      "text/plain": [
       "28"
      ]
     },
     "execution_count": 153,
     "metadata": {},
     "output_type": "execute_result"
    }
   ],
   "source": [
    "sys.getsizeof(x)"
   ]
  },
  {
   "cell_type": "markdown",
   "id": "eca8e6dc-deab-4f99-a0dd-18819cd52fb9",
   "metadata": {},
   "source": [
    "28 Byte für normaler Python int"
   ]
  },
  {
   "cell_type": "code",
   "execution_count": 154,
   "id": "66706d24-acdf-4982-bf7e-21d50104d7d1",
   "metadata": {},
   "outputs": [
    {
     "data": {
      "text/plain": [
       "4"
      ]
     },
     "execution_count": 154,
     "metadata": {},
     "output_type": "execute_result"
    }
   ],
   "source": [
    "np.dtype(int).itemsize"
   ]
  },
  {
   "cell_type": "code",
   "execution_count": 155,
   "id": "5a01760a-47aa-43ea-8532-2086908f9f6c",
   "metadata": {},
   "outputs": [
    {
     "data": {
      "text/plain": [
       "64"
      ]
     },
     "execution_count": 155,
     "metadata": {},
     "output_type": "execute_result"
    }
   ],
   "source": [
    "sys.getsizeof([1])"
   ]
  },
  {
   "cell_type": "code",
   "execution_count": 157,
   "id": "00caf283-d12e-4677-bf0d-fc65c021256a",
   "metadata": {},
   "outputs": [
    {
     "data": {
      "text/plain": [
       "4"
      ]
     },
     "execution_count": 157,
     "metadata": {},
     "output_type": "execute_result"
    }
   ],
   "source": [
    "np.array([1]).nbytes"
   ]
  },
  {
   "cell_type": "code",
   "execution_count": 162,
   "id": "188d2d76-bbf7-4d32-91ee-ac7b2cbcd510",
   "metadata": {},
   "outputs": [
    {
     "name": "stdout",
     "output_type": "stream",
     "text": [
      "<class 'function'>\n",
      "Vor der Funktion\n",
      "Hello World\n",
      "Nach der Funktion\n",
      "Vor der Funktion\n",
      "Vor der Funktion\n",
      "Hello World\n",
      "Nach der Funktion\n",
      "Nach der Funktion\n",
      "Vor der Funktion\n",
      "Hallo Lukas\n",
      "Nach der Funktion\n",
      "Vor der Funktion\n",
      "7\n",
      "10\n",
      "10\n",
      "20\n"
     ]
    }
   ],
   "source": [
    "import Grundkurs.M014 as dec"
   ]
  },
  {
   "cell_type": "code",
   "execution_count": 194,
   "id": "39d8f89e-7cca-4e46-a5e1-5eadb33c746b",
   "metadata": {},
   "outputs": [],
   "source": [
    "@dec.measureTime\n",
    "def sumNumbers():\n",
    "    print(sum([x ** 2 for x in range(10_000_000)]))"
   ]
  },
  {
   "cell_type": "code",
   "execution_count": 195,
   "id": "6e11b950-1943-4a4c-a935-fb886ee5287b",
   "metadata": {},
   "outputs": [
    {
     "name": "stdout",
     "output_type": "stream",
     "text": [
      "333333283333335000000\n",
      "Dauer: 4.95s\n"
     ]
    }
   ],
   "source": [
    "sumNumbers()"
   ]
  },
  {
   "cell_type": "code",
   "execution_count": 200,
   "id": "81389d1d-5152-493a-80c0-ff71d68c91e5",
   "metadata": {},
   "outputs": [],
   "source": [
    "@dec.measureTime\n",
    "def sumNumbersNP():\n",
    "    arr = np.arange(10_000_000, dtype=np.int64)\n",
    "    arr **= 2\n",
    "    print(arr.sum())"
   ]
  },
  {
   "cell_type": "code",
   "execution_count": 201,
   "id": "eb0ae5ca-afea-40f0-8553-b860a377f9f7",
   "metadata": {},
   "outputs": [
    {
     "name": "stdout",
     "output_type": "stream",
     "text": [
      "1291890006563070912\n",
      "Dauer: 0.05s\n"
     ]
    }
   ],
   "source": [
    "sumNumbersNP()"
   ]
  },
  {
   "cell_type": "markdown",
   "id": "9697e17d-4ae2-4940-8a34-965ce700af02",
   "metadata": {},
   "source": [
    "## Andere Funktionen"
   ]
  },
  {
   "cell_type": "code",
   "execution_count": 204,
   "id": "6fe306ef-eed1-4cb0-8efa-4c7f3fab81dc",
   "metadata": {},
   "outputs": [
    {
     "data": {
      "text/plain": [
       "array([[0.36566991, 0.64851217, 0.75748758],\n",
       "       [0.47554771, 0.93072575, 0.13147189],\n",
       "       [0.27188698, 0.98948726, 0.75508123]])"
      ]
     },
     "execution_count": 204,
     "metadata": {},
     "output_type": "execute_result"
    }
   ],
   "source": [
    "np.random.random(size=(3, 3))  # Random Kommazahlen Arrays erzeugen"
   ]
  },
  {
   "cell_type": "code",
   "execution_count": 208,
   "id": "34405641-cca3-4141-b59e-0adb057e0759",
   "metadata": {},
   "outputs": [],
   "source": [
    "hoheMatrix = np.arange(99).reshape(33, 3)  # Arrays in eine andere Form bringen"
   ]
  },
  {
   "cell_type": "code",
   "execution_count": 210,
   "id": "60bec3da-84cf-4061-b888-85b4ae45216b",
   "metadata": {},
   "outputs": [
    {
     "data": {
      "text/plain": [
       "array([ 0,  1,  2,  3,  4,  5,  6,  7,  8,  9, 10, 11, 12, 13, 14, 15, 16,\n",
       "       17, 18, 19, 20, 21, 22, 23, 24, 25, 26, 27, 28, 29, 30, 31, 32, 33,\n",
       "       34, 35, 36, 37, 38, 39, 40, 41, 42, 43, 44, 45, 46, 47, 48, 49, 50,\n",
       "       51, 52, 53, 54, 55, 56, 57, 58, 59, 60, 61, 62, 63, 64, 65, 66, 67,\n",
       "       68, 69, 70, 71, 72, 73, 74, 75, 76, 77, 78, 79, 80, 81, 82, 83, 84,\n",
       "       85, 86, 87, 88, 89, 90, 91, 92, 93, 94, 95, 96, 97, 98])"
      ]
     },
     "execution_count": 210,
     "metadata": {},
     "output_type": "execute_result"
    }
   ],
   "source": [
    "hoheMatrix.reshape(-1,)  # mit -1, eine Matrix eindimensional machen"
   ]
  },
  {
   "cell_type": "code",
   "execution_count": 212,
   "id": "8ef6960c-19f7-4e2c-9393-4d210e45f9ec",
   "metadata": {},
   "outputs": [],
   "source": [
    "wuerfel = np.arange(99).reshape(11, 3, 3)"
   ]
  },
  {
   "cell_type": "code",
   "execution_count": 216,
   "id": "31f3388e-3585-4cbc-baf3-df56003ba1ce",
   "metadata": {},
   "outputs": [
    {
     "data": {
      "text/plain": [
       "array([[ 0,  1,  2,  3,  4,  5,  6,  7,  8],\n",
       "       [ 9, 10, 11, 12, 13, 14, 15, 16, 17],\n",
       "       [18, 19, 20, 21, 22, 23, 24, 25, 26],\n",
       "       [27, 28, 29, 30, 31, 32, 33, 34, 35],\n",
       "       [36, 37, 38, 39, 40, 41, 42, 43, 44],\n",
       "       [45, 46, 47, 48, 49, 50, 51, 52, 53],\n",
       "       [54, 55, 56, 57, 58, 59, 60, 61, 62],\n",
       "       [63, 64, 65, 66, 67, 68, 69, 70, 71],\n",
       "       [72, 73, 74, 75, 76, 77, 78, 79, 80],\n",
       "       [81, 82, 83, 84, 85, 86, 87, 88, 89],\n",
       "       [90, 91, 92, 93, 94, 95, 96, 97, 98]])"
      ]
     },
     "execution_count": 216,
     "metadata": {},
     "output_type": "execute_result"
    }
   ],
   "source": [
    "wuerfel.reshape(11, 9)"
   ]
  },
  {
   "cell_type": "code",
   "execution_count": 217,
   "id": "4778893f-f08c-4e3f-96d9-11db75fdc357",
   "metadata": {},
   "outputs": [
    {
     "data": {
      "text/plain": [
       "array([ 0,  1,  2,  3,  4,  5,  6,  7,  8,  9, 10, 11, 12, 13, 14, 15, 16,\n",
       "       17, 18, 19, 20, 21, 22, 23, 24, 25, 26, 27, 28, 29, 30, 31, 32, 33,\n",
       "       34, 35, 36, 37, 38, 39, 40, 41, 42, 43, 44, 45, 46, 47, 48, 49, 50,\n",
       "       51, 52, 53, 54, 55, 56, 57, 58, 59, 60, 61, 62, 63, 64, 65, 66, 67,\n",
       "       68, 69, 70, 71, 72, 73, 74, 75, 76, 77, 78, 79, 80, 81, 82, 83, 84,\n",
       "       85, 86, 87, 88, 89, 90, 91, 92, 93, 94, 95, 96, 97, 98])"
      ]
     },
     "execution_count": 217,
     "metadata": {},
     "output_type": "execute_result"
    }
   ],
   "source": [
    "wuerfel.reshape(99)"
   ]
  },
  {
   "cell_type": "code",
   "execution_count": 222,
   "id": "1c9b0837-7134-487f-aad5-1382da3132a9",
   "metadata": {},
   "outputs": [
    {
     "data": {
      "text/plain": [
       "array([ 0.        ,  0.1010101 ,  0.2020202 ,  0.3030303 ,  0.4040404 ,\n",
       "        0.50505051,  0.60606061,  0.70707071,  0.80808081,  0.90909091,\n",
       "        1.01010101,  1.11111111,  1.21212121,  1.31313131,  1.41414141,\n",
       "        1.51515152,  1.61616162,  1.71717172,  1.81818182,  1.91919192,\n",
       "        2.02020202,  2.12121212,  2.22222222,  2.32323232,  2.42424242,\n",
       "        2.52525253,  2.62626263,  2.72727273,  2.82828283,  2.92929293,\n",
       "        3.03030303,  3.13131313,  3.23232323,  3.33333333,  3.43434343,\n",
       "        3.53535354,  3.63636364,  3.73737374,  3.83838384,  3.93939394,\n",
       "        4.04040404,  4.14141414,  4.24242424,  4.34343434,  4.44444444,\n",
       "        4.54545455,  4.64646465,  4.74747475,  4.84848485,  4.94949495,\n",
       "        5.05050505,  5.15151515,  5.25252525,  5.35353535,  5.45454545,\n",
       "        5.55555556,  5.65656566,  5.75757576,  5.85858586,  5.95959596,\n",
       "        6.06060606,  6.16161616,  6.26262626,  6.36363636,  6.46464646,\n",
       "        6.56565657,  6.66666667,  6.76767677,  6.86868687,  6.96969697,\n",
       "        7.07070707,  7.17171717,  7.27272727,  7.37373737,  7.47474747,\n",
       "        7.57575758,  7.67676768,  7.77777778,  7.87878788,  7.97979798,\n",
       "        8.08080808,  8.18181818,  8.28282828,  8.38383838,  8.48484848,\n",
       "        8.58585859,  8.68686869,  8.78787879,  8.88888889,  8.98989899,\n",
       "        9.09090909,  9.19191919,  9.29292929,  9.39393939,  9.49494949,\n",
       "        9.5959596 ,  9.6969697 ,  9.7979798 ,  9.8989899 , 10.        ])"
      ]
     },
     "execution_count": 222,
     "metadata": {},
     "output_type": "execute_result"
    }
   ],
   "source": [
    "np.linspace(0, 10, 100)  # Erzeuge ein Array von X bis Y mit Z Elementen dazwischen"
   ]
  },
  {
   "cell_type": "code",
   "execution_count": 223,
   "id": "8afcadad-cf85-4de3-b544-c8535b3bb191",
   "metadata": {},
   "outputs": [
    {
     "data": {
      "text/plain": [
       "array([ 0.        ,  0.4040404 ,  0.80808081,  1.21212121,  1.61616162,\n",
       "        2.02020202,  2.42424242,  2.82828283,  3.23232323,  3.63636364,\n",
       "        4.04040404,  4.44444444,  4.84848485,  5.25252525,  5.65656566,\n",
       "        6.06060606,  6.46464646,  6.86868687,  7.27272727,  7.67676768,\n",
       "        8.08080808,  8.48484848,  8.88888889,  9.29292929,  9.6969697 ,\n",
       "       10.1010101 , 10.50505051, 10.90909091, 11.31313131, 11.71717172,\n",
       "       12.12121212, 12.52525253, 12.92929293, 13.33333333, 13.73737374,\n",
       "       14.14141414, 14.54545455, 14.94949495, 15.35353535, 15.75757576,\n",
       "       16.16161616, 16.56565657, 16.96969697, 17.37373737, 17.77777778,\n",
       "       18.18181818, 18.58585859, 18.98989899, 19.39393939, 19.7979798 ,\n",
       "       20.2020202 , 20.60606061, 21.01010101, 21.41414141, 21.81818182,\n",
       "       22.22222222, 22.62626263, 23.03030303, 23.43434343, 23.83838384,\n",
       "       24.24242424, 24.64646465, 25.05050505, 25.45454545, 25.85858586,\n",
       "       26.26262626, 26.66666667, 27.07070707, 27.47474747, 27.87878788,\n",
       "       28.28282828, 28.68686869, 29.09090909, 29.49494949, 29.8989899 ,\n",
       "       30.3030303 , 30.70707071, 31.11111111, 31.51515152, 31.91919192,\n",
       "       32.32323232, 32.72727273, 33.13131313, 33.53535354, 33.93939394,\n",
       "       34.34343434, 34.74747475, 35.15151515, 35.55555556, 35.95959596,\n",
       "       36.36363636, 36.76767677, 37.17171717, 37.57575758, 37.97979798,\n",
       "       38.38383838, 38.78787879, 39.19191919, 39.5959596 , 40.        ])"
      ]
     },
     "execution_count": 223,
     "metadata": {},
     "output_type": "execute_result"
    }
   ],
   "source": [
    "np.linspace(0, 40, 100)"
   ]
  },
  {
   "cell_type": "code",
   "execution_count": 224,
   "id": "ce471ced-605f-4f60-954c-769922520f39",
   "metadata": {},
   "outputs": [],
   "source": [
    "import matplotlib.pyplot as plt"
   ]
  },
  {
   "cell_type": "code",
   "execution_count": 229,
   "id": "883e72fd-da7a-4aed-b282-e438866258a0",
   "metadata": {},
   "outputs": [
    {
     "data": {
      "text/plain": [
       "[<matplotlib.lines.Line2D at 0x1cd64332da0>]"
      ]
     },
     "execution_count": 229,
     "metadata": {},
     "output_type": "execute_result"
    },
    {
     "data": {
      "image/png": "[encoded data removed]",
      "text/plain": [
       "<Figure size 640x480 with 1 Axes>"
      ]
     },
     "metadata": {},
     "output_type": "display_data"
    }
   ],
   "source": [
    "plt.plot(np.linspace(0, 40, 100), np.random.randint(100, size=(100)))"
   ]
  },
  {
   "cell_type": "code",
   "execution_count": 231,
   "id": "12718078-5392-4ef0-afd3-7986187207b9",
   "metadata": {},
   "outputs": [
    {
     "data": {
      "text/plain": [
       "array([0., 0., 0., 0., 0., 0., 0., 0., 0., 0.])"
      ]
     },
     "execution_count": 231,
     "metadata": {},
     "output_type": "execute_result"
    }
   ],
   "source": [
    "np.zeros(10)"
   ]
  },
  {
   "cell_type": "code",
   "execution_count": 232,
   "id": "39593673-9351-4a78-a05a-c2aacefdb175",
   "metadata": {},
   "outputs": [
    {
     "data": {
      "text/plain": [
       "array([1., 1., 1., 1., 1., 1., 1., 1., 1., 1.])"
      ]
     },
     "execution_count": 232,
     "metadata": {},
     "output_type": "execute_result"
    }
   ],
   "source": [
    "np.ones(10)"
   ]
  },
  {
   "cell_type": "code",
   "execution_count": 233,
   "id": "b2cdeda2-6756-4862-8c5a-94ed9b810a63",
   "metadata": {},
   "outputs": [],
   "source": [
    "links = np.arange(90).reshape(10, 9)"
   ]
  },
  {
   "cell_type": "code",
   "execution_count": 234,
   "id": "6151faf5-96e8-45e1-b686-de9837de2991",
   "metadata": {},
   "outputs": [
    {
     "data": {
      "text/plain": [
       "array([[ 0,  1,  2,  3,  4,  5,  6,  7,  8],\n",
       "       [ 9, 10, 11, 12, 13, 14, 15, 16, 17],\n",
       "       [18, 19, 20, 21, 22, 23, 24, 25, 26],\n",
       "       [27, 28, 29, 30, 31, 32, 33, 34, 35],\n",
       "       [36, 37, 38, 39, 40, 41, 42, 43, 44],\n",
       "       [45, 46, 47, 48, 49, 50, 51, 52, 53],\n",
       "       [54, 55, 56, 57, 58, 59, 60, 61, 62],\n",
       "       [63, 64, 65, 66, 67, 68, 69, 70, 71],\n",
       "       [72, 73, 74, 75, 76, 77, 78, 79, 80],\n",
       "       [81, 82, 83, 84, 85, 86, 87, 88, 89]])"
      ]
     },
     "execution_count": 234,
     "metadata": {},
     "output_type": "execute_result"
    }
   ],
   "source": [
    "links"
   ]
  },
  {
   "cell_type": "code",
   "execution_count": 237,
   "id": "fb0d9a8d-bee5-44ff-b75b-6f602d68af3f",
   "metadata": {},
   "outputs": [],
   "source": [
    "rechts = np.random.randint(10, size=(10, 1))"
   ]
  },
  {
   "cell_type": "code",
   "execution_count": 238,
   "id": "6d2999b8-4e1d-497b-ad30-d262a81536e7",
   "metadata": {},
   "outputs": [
    {
     "data": {
      "text/plain": [
       "array([[2],\n",
       "       [8],\n",
       "       [3],\n",
       "       [4],\n",
       "       [7],\n",
       "       [0],\n",
       "       [6],\n",
       "       [0],\n",
       "       [6],\n",
       "       [9]])"
      ]
     },
     "execution_count": 238,
     "metadata": {},
     "output_type": "execute_result"
    }
   ],
   "source": [
    "rechts"
   ]
  },
  {
   "cell_type": "code",
   "execution_count": 241,
   "id": "98256c35-ab51-4dce-815e-821b22274be9",
   "metadata": {},
   "outputs": [
    {
     "data": {
      "text/plain": [
       "array([[ 0,  1,  2,  3,  4,  5,  6,  7,  8,  2],\n",
       "       [ 9, 10, 11, 12, 13, 14, 15, 16, 17,  8],\n",
       "       [18, 19, 20, 21, 22, 23, 24, 25, 26,  3],\n",
       "       [27, 28, 29, 30, 31, 32, 33, 34, 35,  4],\n",
       "       [36, 37, 38, 39, 40, 41, 42, 43, 44,  7],\n",
       "       [45, 46, 47, 48, 49, 50, 51, 52, 53,  0],\n",
       "       [54, 55, 56, 57, 58, 59, 60, 61, 62,  6],\n",
       "       [63, 64, 65, 66, 67, 68, 69, 70, 71,  0],\n",
       "       [72, 73, 74, 75, 76, 77, 78, 79, 80,  6],\n",
       "       [81, 82, 83, 84, 85, 86, 87, 88, 89,  9]])"
      ]
     },
     "execution_count": 241,
     "metadata": {},
     "output_type": "execute_result"
    }
   ],
   "source": [
    "np.hstack((links, rechts))  # Kombiniert zwei Matrizen horizontal (hängt eine Spalte an eine Tabelle an)"
   ]
  },
  {
   "cell_type": "markdown",
   "id": "b7baac1a-ae8a-4f9d-bd80-7b8d1c62fab8",
   "metadata": {},
   "source": [
    "WICHTIG: hstack benötigt ein Tupel als Parameter"
   ]
  },
  {
   "cell_type": "code",
   "execution_count": 242,
   "id": "09747dec-0541-4ede-871a-95a309c6bdc8",
   "metadata": {},
   "outputs": [
    {
     "data": {
      "text/plain": [
       "array([[ 0,  1,  2,  3,  4,  5,  6,  7,  8,  2,  2],\n",
       "       [ 9, 10, 11, 12, 13, 14, 15, 16, 17,  8,  8],\n",
       "       [18, 19, 20, 21, 22, 23, 24, 25, 26,  3,  3],\n",
       "       [27, 28, 29, 30, 31, 32, 33, 34, 35,  4,  4],\n",
       "       [36, 37, 38, 39, 40, 41, 42, 43, 44,  7,  7],\n",
       "       [45, 46, 47, 48, 49, 50, 51, 52, 53,  0,  0],\n",
       "       [54, 55, 56, 57, 58, 59, 60, 61, 62,  6,  6],\n",
       "       [63, 64, 65, 66, 67, 68, 69, 70, 71,  0,  0],\n",
       "       [72, 73, 74, 75, 76, 77, 78, 79, 80,  6,  6],\n",
       "       [81, 82, 83, 84, 85, 86, 87, 88, 89,  9,  9]])"
      ]
     },
     "execution_count": 242,
     "metadata": {},
     "output_type": "execute_result"
    }
   ],
   "source": [
    "np.hstack((links, rechts, rechts))"
   ]
  }
 ],
 "metadata": {
  "kernelspec": {
   "display_name": "Python 3 (ipykernel)",
   "language": "python",
   "name": "python3"
  },
  "language_info": {
   "codemirror_mode": {
    "name": "ipython",
    "version": 3
   },
   "file_extension": ".py",
   "mimetype": "text/x-python",
   "name": "python",
   "nbconvert_exporter": "python",
   "pygments_lexer": "ipython3",
   "version": "3.10.6"
  }
 },
 "nbformat": 4,
 "nbformat_minor": 5
}
