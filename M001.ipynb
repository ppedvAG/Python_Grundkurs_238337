{
 "cells": [
  {
   "cell_type": "markdown",
   "id": "a334d1b3-decf-4d91-b378-d4bd4907ff5c",
   "metadata": {},
   "source": [
    "## IPython Notebooks\n",
    "\n",
    "Funktionen\n",
    "- Code schnell ausführen\n",
    "- Tabellen darstellen\n",
    "- Graphen darstellen\n",
    "\n",
    "Verwendung\n",
    "- Zellen\n",
    "    - Code oder Markdown\n",
    "    - Mit Enter in die nächste Zeile gehen\n",
    "    - Mit Shift + Enter die derzeitige Zelle ausführen\n",
    "    - Modi\n",
    "      - Zellenbearbeitungsmodus (Zellen ausgegraut, keine blaue Umrandung, kein Cursor)\n",
    "      - Codebearbeitungsmodus (Zelle schwarz hinterlegt, blaue Umrandung, Cursor)\n",
    "\n",
    "---\n",
    "\n",
    "**Fetter Text**\n",
    "\n",
    "_Kursiver Text_\n",
    "\n",
    "Trennlinie mit drei Bindestrichen\n",
    "\n",
    "ppedv.de https://ppedv.de/\n",
    "\n",
    "---"
   ]
  },
  {
   "cell_type": "code",
   "execution_count": 4,
   "id": "41b105c3-6134-4f1d-9d60-589e7c821405",
   "metadata": {},
   "outputs": [
    {
     "name": "stdout",
     "output_type": "stream",
     "text": [
      "2.0\n"
     ]
    }
   ],
   "source": [
    "x = 5\n",
    "y = 10\n",
    "x * y"
   ]
  },
  {
   "cell_type": "code",
   "execution_count": 3,
   "id": "a9c6c8c3-1d1c-4551-8396-455d4a3763aa",
   "metadata": {},
   "outputs": [],
   "source": [
    "div = y / x"
   ]
  },
  {
   "cell_type": "markdown",
   "id": "88df98ee-a092-4b80-8b68-bc424c411b33",
   "metadata": {},
   "source": [
    "Code ist in späteren Zeilen verfügbar (vorallem bei Imports wichtig)"
   ]
  },
  {
   "cell_type": "code",
   "execution_count": 5,
   "id": "6d146a5d-455f-4394-9f4d-7814967eadb8",
   "metadata": {},
   "outputs": [],
   "source": [
    "import matplotlib.pyplot as plt"
   ]
  },
  {
   "cell_type": "code",
   "execution_count": 6,
   "id": "e7de281a-fa13-484f-9d7c-e97fb62cb2f9",
   "metadata": {},
   "outputs": [],
   "source": [
    "x = [2, 7, 10, 15, 22]\n",
    "y = [4, 9, 22, 55, 199]"
   ]
  },
  {
   "cell_type": "code",
   "execution_count": 9,
   "id": "491625f5-d671-428f-b7b0-54ca0e953188",
   "metadata": {},
   "outputs": [
    {
     "data": {
      "text/plain": [
       "[<matplotlib.lines.Line2D at 0x214df3d74c0>]"
      ]
     },
     "execution_count": 9,
     "metadata": {},
     "output_type": "execute_result"
    },
    {
     "data": {
      "image/png": "[encoded data removed]",
      "text/plain": [
       "<Figure size 640x480 with 1 Axes>"
      ]
     },
     "metadata": {},
     "output_type": "display_data"
    }
   ],
   "source": [
    "plt.title(\"Eine Linie\")\n",
    "plt.plot(x, y, color=\"Red\")"
   ]
  },
  {
   "cell_type": "markdown",
   "id": "7f5b11ad-0e9a-4509-b8d8-91bca072a0c4",
   "metadata": {},
   "source": [
    "## Shortcuts\n",
    "\n",
    "Im Zellenbearbeitungsmodus\n",
    "- Pfeil Hoch, Runter: Zelle auswählen\n",
    "- A, B: Neue Zellen hinzufügen darüber, darunter\n",
    "- D + D: Derzeitige Zelle löschen\n",
    "- C, V, X, Z, Shift + Y: Copy, Paste, Cut, Undo, Redo (ohne Strg)\n",
    "- M und Y: Markdown und Code wechseln\n",
    "- Enter: Zelle betreten\n",
    "- Escape: Zelle verlassen ohne sie auszuführen\n",
    "- Tab: Codevervollständigung"
   ]
  }
 ],
 "metadata": {
  "kernelspec": {
   "display_name": "Python 3 (ipykernel)",
   "language": "python",
   "name": "python3"
  },
  "language_info": {
   "codemirror_mode": {
    "name": "ipython",
    "version": 3
   },
   "file_extension": ".py",
   "mimetype": "text/x-python",
   "name": "python",
   "nbconvert_exporter": "python",
   "pygments_lexer": "ipython3",
   "version": "3.10.6"
  }
 },
 "nbformat": 4,
 "nbformat_minor": 5
}
